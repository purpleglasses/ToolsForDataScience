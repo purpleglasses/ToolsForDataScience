{
 "cells": [
  {
   "cell_type": "markdown",
   "id": "af949576-fdae-4358-afb5-2b6c7c514101",
   "metadata": {},
   "source": [
    "<h1>Data Science Tools and Ecosystem</h1>"
   ]
  },
  {
   "cell_type": "markdown",
   "id": "00c2d19a-b1a2-4754-89bb-dd43e03e6fb7",
   "metadata": {},
   "source": [
    "In this notebook, Data Science Tools and Ecosystem are summarized."
   ]
  },
  {
   "cell_type": "markdown",
   "id": "0ab43025-ae49-400d-9da7-4af371bc8507",
   "metadata": {},
   "source": [
    "<b>Objectives</b>\n",
    "<ul>\n",
    "    <li>List popular languages for Data Science</li>\n",
    "    <li>List common libraries used by Data Scientists</li>\n",
    "    <li>Provide some examples of evaluating arithmetic in Python</li>\n",
    "</ul>"
   ]
  },
  {
   "cell_type": "markdown",
   "id": "7f5eb976-99b3-4857-9196-11d49da04d95",
   "metadata": {},
   "source": [
    "Some of the popular languages that Data Scientists use are:\n",
    "<ol>\n",
    "    <li>R</li>\n",
    "    <li>Python</li>\n",
    "    <li>Julia</li>\n",
    "    <li>Java</li>\n",
    "</ol>"
   ]
  },
  {
   "cell_type": "markdown",
   "id": "07f2c76a-d117-43f0-b7cb-f896f109165f",
   "metadata": {},
   "source": [
    "Some of the commonly used libraries used by Data Scientists include:\n",
    "<ol>\n",
    "    <li>ggplot</li>\n",
    "    <li>Pandas</li>\n",
    "    <li>Plotly</li>\n",
    "    <li>NumPy</li>\n",
    "</ol>"
   ]
  },
  {
   "cell_type": "markdown",
   "id": "82fce8ff-0b07-48b6-8fbe-60a1c85f0f66",
   "metadata": {},
   "source": [
    "<table>\n",
    "    <tr><th>Data Science Tools</th></tr>\n",
    "    <tr><td>RStudio</td></tr>\n",
    "    <tr><td>JupyterLab</td></tr>\n",
    "    <tr><td>Visual Studio Code</td></tr>\n",
    "    <tr><td>Spyder</td></tr>\n",
    "</table>"
   ]
  },
  {
   "cell_type": "markdown",
   "id": "e3be8f8d-eff3-4d9c-989a-08d6d5255a4f",
   "metadata": {
    "tags": []
   },
   "source": [
    "<h3>Below are a few examples of evaluating arithmetic expressions in Python</h3>"
   ]
  },
  {
   "cell_type": "code",
   "execution_count": 1,
   "id": "e5dcfe3a-6f50-4aa5-b635-8c95667c7650",
   "metadata": {},
   "outputs": [
    {
     "data": {
      "text/plain": [
       "17"
      ]
     },
     "execution_count": 1,
     "metadata": {},
     "output_type": "execute_result"
    }
   ],
   "source": [
    "# This a simple arithmetic expression to mutiply then add integers\n",
    "(3*4)+5"
   ]
  },
  {
   "cell_type": "code",
   "execution_count": 2,
   "id": "cbe1cf9d-38ec-40fb-b4bb-d34d52e6ab29",
   "metadata": {},
   "outputs": [
    {
     "data": {
      "text/plain": [
       "3.3333333333333335"
      ]
     },
     "execution_count": 2,
     "metadata": {},
     "output_type": "execute_result"
    }
   ],
   "source": [
    "# This will convert 200 minutes to hours by diving by 60\n",
    "200/60"
   ]
  },
  {
   "cell_type": "markdown",
   "id": "838ff047-af77-4562-9e8b-b3872d68e085",
   "metadata": {},
   "source": [
    "<h2>Author</h2>\n",
    "Sarah Fernandez"
   ]
  },
  {
   "cell_type": "code",
   "execution_count": null,
   "id": "b85f1dd6-d77d-45e3-b5d7-bac908aac418",
   "metadata": {},
   "outputs": [],
   "source": []
  }
 ],
 "metadata": {
  "kernelspec": {
   "display_name": "Python 3 (ipykernel)",
   "language": "python",
   "name": "python3"
  },
  "language_info": {
   "codemirror_mode": {
    "name": "ipython",
    "version": 3
   },
   "file_extension": ".py",
   "mimetype": "text/x-python",
   "name": "python",
   "nbconvert_exporter": "python",
   "pygments_lexer": "ipython3",
   "version": "3.10.6"
  }
 },
 "nbformat": 4,
 "nbformat_minor": 5
}
